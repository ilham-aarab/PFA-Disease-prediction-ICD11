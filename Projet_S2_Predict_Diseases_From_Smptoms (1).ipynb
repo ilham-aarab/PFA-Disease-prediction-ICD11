{
  "cells": [
    {
      "cell_type": "markdown",
      "metadata": {
        "id": "06HgjROGNf_6"
      },
      "source": [
        "### Traitement de la base"
      ]
    },
    {
      "cell_type": "code",
      "execution_count": null,
      "metadata": {
        "id": "313KTCNTCgbE"
      },
      "outputs": [],
      "source": [
        "# Import Packages\n",
        "import pandas as pd\n",
        "import csv\n",
        "import seaborn as sns\n",
        "import numpy as np\n",
        "import networkx as nx\n",
        "import graphviz\n",
        "from IPython.display import display\n",
        "from collections import defaultdict\n",
        "from sklearn.preprocessing import LabelEncoder, OneHotEncoder, MultiLabelBinarizer, StandardScaler\n",
        "from matplotlib import pyplot as plt\n",
        "from sklearn.model_selection import train_test_split, cross_validate\n",
        "from sklearn.tree import DecisionTreeClassifier, export_graphviz\n",
        "from sklearn.ensemble import RandomForestClassifier\n",
        "from sklearn import tree \n",
        "from sklearn.pipeline import Pipeline\n",
        "from sklearn.metrics import accuracy_score"
      ]
    },
    {
      "cell_type": "code",
      "execution_count": null,
      "metadata": {
        "id": "KaigPz-9CgbK"
      },
      "outputs": [],
      "source": [
        "disease_symptom_dataset_url = \"http://people.dbmi.columbia.edu/~friedma/Projects/DiseaseSymptomKB/index.html\"\n",
        "\n",
        "# Find table.\n",
        "table = pd.read_html(disease_symptom_dataset_url)[0]\n",
        "\n",
        "# Save CSV file\n",
        "table.to_csv(\"disease_symptom_dataset_unprocessed.csv\", index=False)"
      ]
    },
    {
      "cell_type": "code",
      "execution_count": null,
      "metadata": {
        "colab": {
          "base_uri": "https://localhost:8080/",
          "height": 250
        },
        "id": "QPQjXiP3CgbK",
        "outputId": "60a959bf-8bb4-490d-f696-c431caed0235"
      },
      "outputs": [
        {
          "data": {
            "text/html": [
              "\n",
              "  <div id=\"df-896e9e16-7c51-4b66-a446-7bb06b81ede5\">\n",
              "    <div class=\"colab-df-container\">\n",
              "      <div>\n",
              "<style scoped>\n",
              "    .dataframe tbody tr th:only-of-type {\n",
              "        vertical-align: middle;\n",
              "    }\n",
              "\n",
              "    .dataframe tbody tr th {\n",
              "        vertical-align: top;\n",
              "    }\n",
              "\n",
              "    .dataframe thead th {\n",
              "        text-align: right;\n",
              "    }\n",
              "</style>\n",
              "<table border=\"1\" class=\"dataframe\">\n",
              "  <thead>\n",
              "    <tr style=\"text-align: right;\">\n",
              "      <th></th>\n",
              "      <th>0</th>\n",
              "      <th>1</th>\n",
              "      <th>2</th>\n",
              "    </tr>\n",
              "  </thead>\n",
              "  <tbody>\n",
              "    <tr>\n",
              "      <th>0</th>\n",
              "      <td>Disease</td>\n",
              "      <td>Count of Disease  Occurrence</td>\n",
              "      <td>Symptom</td>\n",
              "    </tr>\n",
              "    <tr>\n",
              "      <th>1</th>\n",
              "      <td>UMLS:C0020538_hypertensive  disease</td>\n",
              "      <td>3363</td>\n",
              "      <td>UMLS:C0008031_pain  chest</td>\n",
              "    </tr>\n",
              "    <tr>\n",
              "      <th>2</th>\n",
              "      <td>NaN</td>\n",
              "      <td>NaN</td>\n",
              "      <td>UMLS:C0392680_shortness  of breath</td>\n",
              "    </tr>\n",
              "    <tr>\n",
              "      <th>3</th>\n",
              "      <td>NaN</td>\n",
              "      <td>NaN</td>\n",
              "      <td>UMLS:C0012833_dizziness</td>\n",
              "    </tr>\n",
              "    <tr>\n",
              "      <th>4</th>\n",
              "      <td>NaN</td>\n",
              "      <td>NaN</td>\n",
              "      <td>UMLS:C0004093_asthenia</td>\n",
              "    </tr>\n",
              "  </tbody>\n",
              "</table>\n",
              "</div>\n",
              "      <button class=\"colab-df-convert\" onclick=\"convertToInteractive('df-896e9e16-7c51-4b66-a446-7bb06b81ede5')\"\n",
              "              title=\"Convert this dataframe to an interactive table.\"\n",
              "              style=\"display:none;\">\n",
              "        \n",
              "  <svg xmlns=\"http://www.w3.org/2000/svg\" height=\"24px\"viewBox=\"0 0 24 24\"\n",
              "       width=\"24px\">\n",
              "    <path d=\"M0 0h24v24H0V0z\" fill=\"none\"/>\n",
              "    <path d=\"M18.56 5.44l.94 2.06.94-2.06 2.06-.94-2.06-.94-.94-2.06-.94 2.06-2.06.94zm-11 1L8.5 8.5l.94-2.06 2.06-.94-2.06-.94L8.5 2.5l-.94 2.06-2.06.94zm10 10l.94 2.06.94-2.06 2.06-.94-2.06-.94-.94-2.06-.94 2.06-2.06.94z\"/><path d=\"M17.41 7.96l-1.37-1.37c-.4-.4-.92-.59-1.43-.59-.52 0-1.04.2-1.43.59L10.3 9.45l-7.72 7.72c-.78.78-.78 2.05 0 2.83L4 21.41c.39.39.9.59 1.41.59.51 0 1.02-.2 1.41-.59l7.78-7.78 2.81-2.81c.8-.78.8-2.07 0-2.86zM5.41 20L4 18.59l7.72-7.72 1.47 1.35L5.41 20z\"/>\n",
              "  </svg>\n",
              "      </button>\n",
              "      \n",
              "  <style>\n",
              "    .colab-df-container {\n",
              "      display:flex;\n",
              "      flex-wrap:wrap;\n",
              "      gap: 12px;\n",
              "    }\n",
              "\n",
              "    .colab-df-convert {\n",
              "      background-color: #E8F0FE;\n",
              "      border: none;\n",
              "      border-radius: 50%;\n",
              "      cursor: pointer;\n",
              "      display: none;\n",
              "      fill: #1967D2;\n",
              "      height: 32px;\n",
              "      padding: 0 0 0 0;\n",
              "      width: 32px;\n",
              "    }\n",
              "\n",
              "    .colab-df-convert:hover {\n",
              "      background-color: #E2EBFA;\n",
              "      box-shadow: 0px 1px 2px rgba(60, 64, 67, 0.3), 0px 1px 3px 1px rgba(60, 64, 67, 0.15);\n",
              "      fill: #174EA6;\n",
              "    }\n",
              "\n",
              "    [theme=dark] .colab-df-convert {\n",
              "      background-color: #3B4455;\n",
              "      fill: #D2E3FC;\n",
              "    }\n",
              "\n",
              "    [theme=dark] .colab-df-convert:hover {\n",
              "      background-color: #434B5C;\n",
              "      box-shadow: 0px 1px 3px 1px rgba(0, 0, 0, 0.15);\n",
              "      filter: drop-shadow(0px 1px 2px rgba(0, 0, 0, 0.3));\n",
              "      fill: #FFFFFF;\n",
              "    }\n",
              "  </style>\n",
              "\n",
              "      <script>\n",
              "        const buttonEl =\n",
              "          document.querySelector('#df-896e9e16-7c51-4b66-a446-7bb06b81ede5 button.colab-df-convert');\n",
              "        buttonEl.style.display =\n",
              "          google.colab.kernel.accessAllowed ? 'block' : 'none';\n",
              "\n",
              "        async function convertToInteractive(key) {\n",
              "          const element = document.querySelector('#df-896e9e16-7c51-4b66-a446-7bb06b81ede5');\n",
              "          const dataTable =\n",
              "            await google.colab.kernel.invokeFunction('convertToInteractive',\n",
              "                                                     [key], {});\n",
              "          if (!dataTable) return;\n",
              "\n",
              "          const docLinkHtml = 'Like what you see? Visit the ' +\n",
              "            '<a target=\"_blank\" href=https://colab.research.google.com/notebooks/data_table.ipynb>data table notebook</a>'\n",
              "            + ' to learn more about interactive tables.';\n",
              "          element.innerHTML = '';\n",
              "          dataTable['output_type'] = 'display_data';\n",
              "          await google.colab.output.renderOutput(dataTable, element);\n",
              "          const docLink = document.createElement('div');\n",
              "          docLink.innerHTML = docLinkHtml;\n",
              "          element.appendChild(docLink);\n",
              "        }\n",
              "      </script>\n",
              "    </div>\n",
              "  </div>\n",
              "  "
            ],
            "text/plain": [
              "                                     0                             1  \\\n",
              "0                              Disease  Count of Disease  Occurrence   \n",
              "1  UMLS:C0020538_hypertensive  disease                          3363   \n",
              "2                                  NaN                           NaN   \n",
              "3                                  NaN                           NaN   \n",
              "4                                  NaN                           NaN   \n",
              "\n",
              "                                    2  \n",
              "0                             Symptom  \n",
              "1           UMLS:C0008031_pain  chest  \n",
              "2  UMLS:C0392680_shortness  of breath  \n",
              "3             UMLS:C0012833_dizziness  \n",
              "4              UMLS:C0004093_asthenia  "
            ]
          },
          "execution_count": 3,
          "metadata": {},
          "output_type": "execute_result"
        }
      ],
      "source": [
        "table.head()"
      ]
    },
    {
      "cell_type": "code",
      "execution_count": null,
      "metadata": {
        "id": "XmAh12gACgbL"
      },
      "outputs": [],
      "source": [
        "# Data Preprocessing\n",
        "# Read CSV File\n",
        "disease_symptom_dataset_unprocessed = pd.read_csv('disease_symptom_dataset_unprocessed.csv')\n",
        "\n",
        "# Drop the first row\n",
        "disease_symptom_dataset_unprocessed = disease_symptom_dataset_unprocessed.drop(0, axis=0)\n",
        "# Reset Index\n",
        "disease_symptom_dataset_unprocessed = disease_symptom_dataset_unprocessed.reset_index(drop=True)\n",
        "# Rename columns\n",
        "disease_symptom_dataset_unprocessed.columns=['disease', 'occurrences', 'symptoms']\n",
        "# Handle NaN values\n",
        "disease_symptom_dataset_unprocessed = disease_symptom_dataset_unprocessed.fillna(method='ffill')\n",
        "\n",
        "# Function to convert   \n",
        "def listToString(s):  \n",
        "    \n",
        "    # initialize an empty string \n",
        "    str1 = \" \" \n",
        "    \n",
        "    # return string   \n",
        "    return (str1.join(s)) \n",
        "        \n",
        "# Process disease and symptoms columns\n",
        "def remove_umls_code(data):\n",
        "    data_ = []\n",
        "    items = data.replace('^','_').split('_')\n",
        "    i = 1\n",
        "    for item in items:\n",
        "        if (i % 2 == 0):\n",
        "            data_.append(item)\n",
        "        i += 1\n",
        "    return data_\n",
        "\n",
        "diseases = []\n",
        "symptoms = []\n",
        "occurrences = 0\n",
        "disease_symptoms = defaultdict(list)\n",
        "disease_symptoms_occurrences = {}\n",
        "disease_symptom_df = pd.DataFrame([], columns=[\"diseases\", \"symptoms\"])\n",
        "for index, row in disease_symptom_dataset_unprocessed.iterrows():\n",
        "\n",
        "    diseases = remove_umls_code(row['disease']) if (row['disease'] !=\"\\xc2\\xa0\") and (row['disease'] != \"\") else []\n",
        "    occurrences = row['occurrences'] if (row['occurrences'] !=\"\\xc2\\xa0\") and (row['occurrences'] != \"\") else []\n",
        "    symptoms = remove_umls_code(row['symptoms']) if (row['symptoms'] !=\"\\xc2\\xa0\") and (row['symptoms'] != \"\") else []\n",
        "    disease_symptom_df = disease_symptom_df.append(\n",
        "        {\n",
        "            \"diseases\": listToString(remove_umls_code(row['disease']) if (row['disease'] !=\"\\xc2\\xa0\") and (row['disease'] != \"\") else []), \n",
        "            \"symptoms\":listToString(remove_umls_code(row['symptoms']) if (row['symptoms'] !=\"\\xc2\\xa0\") and (row['symptoms'] != \"\") else [])\n",
        "        }, ignore_index=True)\n",
        "    for d in diseases:\n",
        "            for s in symptoms:\n",
        "                disease_symptoms[d].append(s)\n",
        "            disease_symptoms_occurrences[d] = occurrences\n",
        "\n",
        "# Save the cleaned dataset to a CSV file\n",
        "disease_symptom_dataset_unprocessed.to_csv(\"disease_symptom_dataset_processed.csv\")\n",
        "# Save disease-symptoms list to a CSV file\n",
        "disease_symptoms_data = pd.DataFrame.from_dict(disease_symptoms.items())\n",
        "disease_symptoms_data.to_csv('disease_symptoms.csv')\n",
        "# Save disease-symptoms-occurrences list to CSV file\n",
        "disease_symptoms_occurrences_data = pd.DataFrame.from_dict(disease_symptoms_occurrences.items())\n",
        "disease_symptoms_occurrences_data.to_csv('disease_occurrences.csv')\n"
      ]
    },
    {
      "cell_type": "code",
      "execution_count": null,
      "metadata": {
        "colab": {
          "base_uri": "https://localhost:8080/",
          "height": 206
        },
        "id": "xRI4ZSc0CgbN",
        "outputId": "f8e85cc1-70d4-4e7c-c5b2-5f097d274f28"
      },
      "outputs": [
        {
          "data": {
            "text/html": [
              "\n",
              "  <div id=\"df-97abebb7-bbd8-4901-b667-1bb1654797b7\">\n",
              "    <div class=\"colab-df-container\">\n",
              "      <div>\n",
              "<style scoped>\n",
              "    .dataframe tbody tr th:only-of-type {\n",
              "        vertical-align: middle;\n",
              "    }\n",
              "\n",
              "    .dataframe tbody tr th {\n",
              "        vertical-align: top;\n",
              "    }\n",
              "\n",
              "    .dataframe thead th {\n",
              "        text-align: right;\n",
              "    }\n",
              "</style>\n",
              "<table border=\"1\" class=\"dataframe\">\n",
              "  <thead>\n",
              "    <tr style=\"text-align: right;\">\n",
              "      <th></th>\n",
              "      <th>0</th>\n",
              "      <th>1</th>\n",
              "    </tr>\n",
              "  </thead>\n",
              "  <tbody>\n",
              "    <tr>\n",
              "      <th>0</th>\n",
              "      <td>hypertensive  disease</td>\n",
              "      <td>3363</td>\n",
              "    </tr>\n",
              "    <tr>\n",
              "      <th>1</th>\n",
              "      <td>diabetes</td>\n",
              "      <td>1421</td>\n",
              "    </tr>\n",
              "    <tr>\n",
              "      <th>2</th>\n",
              "      <td>depression  mental</td>\n",
              "      <td>1337</td>\n",
              "    </tr>\n",
              "    <tr>\n",
              "      <th>3</th>\n",
              "      <td>depressive disorder</td>\n",
              "      <td>1337</td>\n",
              "    </tr>\n",
              "    <tr>\n",
              "      <th>4</th>\n",
              "      <td>coronary  arteriosclerosis</td>\n",
              "      <td>1284</td>\n",
              "    </tr>\n",
              "  </tbody>\n",
              "</table>\n",
              "</div>\n",
              "      <button class=\"colab-df-convert\" onclick=\"convertToInteractive('df-97abebb7-bbd8-4901-b667-1bb1654797b7')\"\n",
              "              title=\"Convert this dataframe to an interactive table.\"\n",
              "              style=\"display:none;\">\n",
              "        \n",
              "  <svg xmlns=\"http://www.w3.org/2000/svg\" height=\"24px\"viewBox=\"0 0 24 24\"\n",
              "       width=\"24px\">\n",
              "    <path d=\"M0 0h24v24H0V0z\" fill=\"none\"/>\n",
              "    <path d=\"M18.56 5.44l.94 2.06.94-2.06 2.06-.94-2.06-.94-.94-2.06-.94 2.06-2.06.94zm-11 1L8.5 8.5l.94-2.06 2.06-.94-2.06-.94L8.5 2.5l-.94 2.06-2.06.94zm10 10l.94 2.06.94-2.06 2.06-.94-2.06-.94-.94-2.06-.94 2.06-2.06.94z\"/><path d=\"M17.41 7.96l-1.37-1.37c-.4-.4-.92-.59-1.43-.59-.52 0-1.04.2-1.43.59L10.3 9.45l-7.72 7.72c-.78.78-.78 2.05 0 2.83L4 21.41c.39.39.9.59 1.41.59.51 0 1.02-.2 1.41-.59l7.78-7.78 2.81-2.81c.8-.78.8-2.07 0-2.86zM5.41 20L4 18.59l7.72-7.72 1.47 1.35L5.41 20z\"/>\n",
              "  </svg>\n",
              "      </button>\n",
              "      \n",
              "  <style>\n",
              "    .colab-df-container {\n",
              "      display:flex;\n",
              "      flex-wrap:wrap;\n",
              "      gap: 12px;\n",
              "    }\n",
              "\n",
              "    .colab-df-convert {\n",
              "      background-color: #E8F0FE;\n",
              "      border: none;\n",
              "      border-radius: 50%;\n",
              "      cursor: pointer;\n",
              "      display: none;\n",
              "      fill: #1967D2;\n",
              "      height: 32px;\n",
              "      padding: 0 0 0 0;\n",
              "      width: 32px;\n",
              "    }\n",
              "\n",
              "    .colab-df-convert:hover {\n",
              "      background-color: #E2EBFA;\n",
              "      box-shadow: 0px 1px 2px rgba(60, 64, 67, 0.3), 0px 1px 3px 1px rgba(60, 64, 67, 0.15);\n",
              "      fill: #174EA6;\n",
              "    }\n",
              "\n",
              "    [theme=dark] .colab-df-convert {\n",
              "      background-color: #3B4455;\n",
              "      fill: #D2E3FC;\n",
              "    }\n",
              "\n",
              "    [theme=dark] .colab-df-convert:hover {\n",
              "      background-color: #434B5C;\n",
              "      box-shadow: 0px 1px 3px 1px rgba(0, 0, 0, 0.15);\n",
              "      filter: drop-shadow(0px 1px 2px rgba(0, 0, 0, 0.3));\n",
              "      fill: #FFFFFF;\n",
              "    }\n",
              "  </style>\n",
              "\n",
              "      <script>\n",
              "        const buttonEl =\n",
              "          document.querySelector('#df-97abebb7-bbd8-4901-b667-1bb1654797b7 button.colab-df-convert');\n",
              "        buttonEl.style.display =\n",
              "          google.colab.kernel.accessAllowed ? 'block' : 'none';\n",
              "\n",
              "        async function convertToInteractive(key) {\n",
              "          const element = document.querySelector('#df-97abebb7-bbd8-4901-b667-1bb1654797b7');\n",
              "          const dataTable =\n",
              "            await google.colab.kernel.invokeFunction('convertToInteractive',\n",
              "                                                     [key], {});\n",
              "          if (!dataTable) return;\n",
              "\n",
              "          const docLinkHtml = 'Like what you see? Visit the ' +\n",
              "            '<a target=\"_blank\" href=https://colab.research.google.com/notebooks/data_table.ipynb>data table notebook</a>'\n",
              "            + ' to learn more about interactive tables.';\n",
              "          element.innerHTML = '';\n",
              "          dataTable['output_type'] = 'display_data';\n",
              "          await google.colab.output.renderOutput(dataTable, element);\n",
              "          const docLink = document.createElement('div');\n",
              "          docLink.innerHTML = docLinkHtml;\n",
              "          element.appendChild(docLink);\n",
              "        }\n",
              "      </script>\n",
              "    </div>\n",
              "  </div>\n",
              "  "
            ],
            "text/plain": [
              "                            0     1\n",
              "0       hypertensive  disease  3363\n",
              "1                    diabetes  1421\n",
              "2          depression  mental  1337\n",
              "3         depressive disorder  1337\n",
              "4  coronary  arteriosclerosis  1284"
            ]
          },
          "execution_count": 5,
          "metadata": {},
          "output_type": "execute_result"
        }
      ],
      "source": [
        "disease_symptoms_occurrences_data.head() "
      ]
    },
    {
      "cell_type": "markdown",
      "metadata": {
        "id": "4G99DI-FNlrk"
      },
      "source": [
        "### Visualisation réseau des maladies et symptômes"
      ]
    },
    {
      "cell_type": "code",
      "execution_count": null,
      "metadata": {
        "colab": {
          "background_save": true
        },
        "id": "7v6Bm0p7CgbN",
        "outputId": "0f309113-9373-42e6-b0d3-c8aec8d1999b",
        "scrolled": true
      },
      "outputs": [],
      "source": [
        "disease_symptom_df.to_csv(\"disease_symptoms_network.csv\")\n",
        "# 0. Figure size\n",
        "plt.figure(figsize=(160, 160)).set_facecolor(\"w\")\n",
        "\n",
        "# 1. Create the graph\n",
        "disease_symptom_network = nx.from_pandas_edgelist(disease_symptom_df, source='diseases', target='symptoms')\n",
        "\n",
        "# 2. Create a layout for our nodes \n",
        "layout = nx.spring_layout(disease_symptom_network,iterations=200)\n",
        "\n",
        "# 3. Draw the parts we want\n",
        "nx.draw_networkx_edges(disease_symptom_network, layout, edge_color='#AAAAAA')\n",
        "\n",
        "# Symptoms\n",
        "symptoms_n = [node for node in disease_symptom_network.nodes() if node in disease_symptom_df.symptoms.unique()]\n",
        "symptoms_size = [disease_symptom_network.degree(node) * 200 for node in disease_symptom_network.nodes() if node in disease_symptom_df.symptoms.unique()]\n",
        "nx.draw_networkx_nodes(disease_symptom_network, layout, nodelist=symptoms_n, node_size=symptoms_size, node_color='#27ae60')\n",
        "\n",
        "# Diseases\n",
        "diseases_n = [node for node in disease_symptom_network.nodes() if node in disease_symptom_df.diseases.unique()]\n",
        "diseases_size = [disease_symptom_network.degree(node) * 200 for node in disease_symptom_network.nodes() if node in disease_symptom_df.diseases.unique()]\n",
        "nx.draw_networkx_nodes(disease_symptom_network, layout, nodelist=diseases_n, node_size=diseases_size, node_color='#e67e22')\n",
        "\n",
        "# Label network\n",
        "symptoms_dict = dict(zip(symptoms_n, symptoms_n))\n",
        "diseases_dict = dict(zip(diseases_n, diseases_n))\n",
        "nx.draw_networkx_labels(disease_symptom_network, layout, labels=symptoms_dict)\n",
        "nx.draw_networkx_labels(disease_symptom_network, layout, labels=diseases_dict)\n",
        "\n",
        "# 4. Turn off the axis because I know you don't want it\n",
        "plt.axis('off')\n",
        "\n",
        "# Set the title\n",
        "plt.title(\"DISEASE-SYMPTOMS-NETWORK\")\n",
        "\n",
        "# 5. Save the plot\n",
        "plt.savefig('disease_symptom_network.png')\n",
        "\n",
        "# 6. Tell matplotlib to show it\n",
        "plt.show()\n",
        "\n"
      ]
    },
    {
      "cell_type": "code",
      "execution_count": null,
      "metadata": {
        "colab": {
          "background_save": true
        },
        "id": "gT8n6ECACgbO",
        "outputId": "7a0f7d67-949e-4307-c0af-755af65f9fab"
      },
      "outputs": [
        {
          "name": "stderr",
          "output_type": "stream",
          "text": [
            "/usr/local/lib/python3.7/dist-packages/ipykernel_launcher.py:2: UserWarning: Pandas doesn't allow columns to be created via a new attribute name - see https://pandas.pydata.org/pandas-docs/stable/indexing.html#attribute-access\n",
            "  \n"
          ]
        },
        {
          "data": {
            "text/html": [
              "\n",
              "  <div id=\"df-ac624482-16e3-4fa6-ac83-bbfe44c4e1be\">\n",
              "    <div class=\"colab-df-container\">\n",
              "      <div>\n",
              "<style scoped>\n",
              "    .dataframe tbody tr th:only-of-type {\n",
              "        vertical-align: middle;\n",
              "    }\n",
              "\n",
              "    .dataframe tbody tr th {\n",
              "        vertical-align: top;\n",
              "    }\n",
              "\n",
              "    .dataframe thead th {\n",
              "        text-align: right;\n",
              "    }\n",
              "</style>\n",
              "<table border=\"1\" class=\"dataframe\">\n",
              "  <thead>\n",
              "    <tr style=\"text-align: right;\">\n",
              "      <th></th>\n",
              "      <th>diseases</th>\n",
              "      <th>symptoms</th>\n",
              "      <th>occurrences</th>\n",
              "    </tr>\n",
              "  </thead>\n",
              "  <tbody>\n",
              "    <tr>\n",
              "      <th>0</th>\n",
              "      <td>hypertensive  disease</td>\n",
              "      <td>[pain  chest, shortness  of breath, dizziness,...</td>\n",
              "      <td>3363</td>\n",
              "    </tr>\n",
              "    <tr>\n",
              "      <th>1</th>\n",
              "      <td>diabetes</td>\n",
              "      <td>[polyuria, polydypsia, shortness  of breath, p...</td>\n",
              "      <td>1421</td>\n",
              "    </tr>\n",
              "    <tr>\n",
              "      <th>2</th>\n",
              "      <td>depression  mental</td>\n",
              "      <td>[feeling  suicidal, suicidal, hallucinations  ...</td>\n",
              "      <td>1337</td>\n",
              "    </tr>\n",
              "    <tr>\n",
              "      <th>3</th>\n",
              "      <td>depressive disorder</td>\n",
              "      <td>[feeling  suicidal, suicidal, hallucinations  ...</td>\n",
              "      <td>1337</td>\n",
              "    </tr>\n",
              "    <tr>\n",
              "      <th>4</th>\n",
              "      <td>coronary  arteriosclerosis</td>\n",
              "      <td>[pain  chest, angina  pectoris, shortness  of ...</td>\n",
              "      <td>1284</td>\n",
              "    </tr>\n",
              "  </tbody>\n",
              "</table>\n",
              "</div>\n",
              "      <button class=\"colab-df-convert\" onclick=\"convertToInteractive('df-ac624482-16e3-4fa6-ac83-bbfe44c4e1be')\"\n",
              "              title=\"Convert this dataframe to an interactive table.\"\n",
              "              style=\"display:none;\">\n",
              "        \n",
              "  <svg xmlns=\"http://www.w3.org/2000/svg\" height=\"24px\"viewBox=\"0 0 24 24\"\n",
              "       width=\"24px\">\n",
              "    <path d=\"M0 0h24v24H0V0z\" fill=\"none\"/>\n",
              "    <path d=\"M18.56 5.44l.94 2.06.94-2.06 2.06-.94-2.06-.94-.94-2.06-.94 2.06-2.06.94zm-11 1L8.5 8.5l.94-2.06 2.06-.94-2.06-.94L8.5 2.5l-.94 2.06-2.06.94zm10 10l.94 2.06.94-2.06 2.06-.94-2.06-.94-.94-2.06-.94 2.06-2.06.94z\"/><path d=\"M17.41 7.96l-1.37-1.37c-.4-.4-.92-.59-1.43-.59-.52 0-1.04.2-1.43.59L10.3 9.45l-7.72 7.72c-.78.78-.78 2.05 0 2.83L4 21.41c.39.39.9.59 1.41.59.51 0 1.02-.2 1.41-.59l7.78-7.78 2.81-2.81c.8-.78.8-2.07 0-2.86zM5.41 20L4 18.59l7.72-7.72 1.47 1.35L5.41 20z\"/>\n",
              "  </svg>\n",
              "      </button>\n",
              "      \n",
              "  <style>\n",
              "    .colab-df-container {\n",
              "      display:flex;\n",
              "      flex-wrap:wrap;\n",
              "      gap: 12px;\n",
              "    }\n",
              "\n",
              "    .colab-df-convert {\n",
              "      background-color: #E8F0FE;\n",
              "      border: none;\n",
              "      border-radius: 50%;\n",
              "      cursor: pointer;\n",
              "      display: none;\n",
              "      fill: #1967D2;\n",
              "      height: 32px;\n",
              "      padding: 0 0 0 0;\n",
              "      width: 32px;\n",
              "    }\n",
              "\n",
              "    .colab-df-convert:hover {\n",
              "      background-color: #E2EBFA;\n",
              "      box-shadow: 0px 1px 2px rgba(60, 64, 67, 0.3), 0px 1px 3px 1px rgba(60, 64, 67, 0.15);\n",
              "      fill: #174EA6;\n",
              "    }\n",
              "\n",
              "    [theme=dark] .colab-df-convert {\n",
              "      background-color: #3B4455;\n",
              "      fill: #D2E3FC;\n",
              "    }\n",
              "\n",
              "    [theme=dark] .colab-df-convert:hover {\n",
              "      background-color: #434B5C;\n",
              "      box-shadow: 0px 1px 3px 1px rgba(0, 0, 0, 0.15);\n",
              "      filter: drop-shadow(0px 1px 2px rgba(0, 0, 0, 0.3));\n",
              "      fill: #FFFFFF;\n",
              "    }\n",
              "  </style>\n",
              "\n",
              "      <script>\n",
              "        const buttonEl =\n",
              "          document.querySelector('#df-ac624482-16e3-4fa6-ac83-bbfe44c4e1be button.colab-df-convert');\n",
              "        buttonEl.style.display =\n",
              "          google.colab.kernel.accessAllowed ? 'block' : 'none';\n",
              "\n",
              "        async function convertToInteractive(key) {\n",
              "          const element = document.querySelector('#df-ac624482-16e3-4fa6-ac83-bbfe44c4e1be');\n",
              "          const dataTable =\n",
              "            await google.colab.kernel.invokeFunction('convertToInteractive',\n",
              "                                                     [key], {});\n",
              "          if (!dataTable) return;\n",
              "\n",
              "          const docLinkHtml = 'Like what you see? Visit the ' +\n",
              "            '<a target=\"_blank\" href=https://colab.research.google.com/notebooks/data_table.ipynb>data table notebook</a>'\n",
              "            + ' to learn more about interactive tables.';\n",
              "          element.innerHTML = '';\n",
              "          dataTable['output_type'] = 'display_data';\n",
              "          await google.colab.output.renderOutput(dataTable, element);\n",
              "          const docLink = document.createElement('div');\n",
              "          docLink.innerHTML = docLinkHtml;\n",
              "          element.appendChild(docLink);\n",
              "        }\n",
              "      </script>\n",
              "    </div>\n",
              "  </div>\n",
              "  "
            ],
            "text/plain": [
              "                     diseases  \\\n",
              "0       hypertensive  disease   \n",
              "1                    diabetes   \n",
              "2          depression  mental   \n",
              "3         depressive disorder   \n",
              "4  coronary  arteriosclerosis   \n",
              "\n",
              "                                            symptoms occurrences  \n",
              "0  [pain  chest, shortness  of breath, dizziness,...        3363  \n",
              "1  [polyuria, polydypsia, shortness  of breath, p...        1421  \n",
              "2  [feeling  suicidal, suicidal, hallucinations  ...        1337  \n",
              "3  [feeling  suicidal, suicidal, hallucinations  ...        1337  \n",
              "4  [pain  chest, angina  pectoris, shortness  of ...        1284  "
            ]
          },
          "execution_count": 6,
          "metadata": {},
          "output_type": "execute_result"
        }
      ],
      "source": [
        "cleaned_data = pd.DataFrame()\n",
        "cleaned_data.cloumns = ['diseases', 'symptoms', 'occurrences']\n",
        "cleaned_data['diseases'] = disease_symptoms_data[0]\n",
        "cleaned_data['symptoms'] = disease_symptoms_data[1]\n",
        "cleaned_data['occurrences'] = disease_symptoms_occurrences_data[1]\n",
        "cleaned_data.head()\n"
      ]
    },
    {
      "cell_type": "code",
      "execution_count": null,
      "metadata": {
        "colab": {
          "background_save": true
        },
        "id": "Qg_oqw-5CgbP",
        "outputId": "165e064d-e66a-4136-9837-ca39976302a1"
      },
      "outputs": [
        {
          "data": {
            "text/html": [
              "\n",
              "  <div id=\"df-9f4445c4-9984-4d4d-b4be-683dcfa8e566\">\n",
              "    <div class=\"colab-df-container\">\n",
              "      <div>\n",
              "<style scoped>\n",
              "    .dataframe tbody tr th:only-of-type {\n",
              "        vertical-align: middle;\n",
              "    }\n",
              "\n",
              "    .dataframe tbody tr th {\n",
              "        vertical-align: top;\n",
              "    }\n",
              "\n",
              "    .dataframe thead th {\n",
              "        text-align: right;\n",
              "    }\n",
              "</style>\n",
              "<table border=\"1\" class=\"dataframe\">\n",
              "  <thead>\n",
              "    <tr style=\"text-align: right;\">\n",
              "      <th></th>\n",
              "      <th>diseases</th>\n",
              "      <th>Heberden's node</th>\n",
              "      <th>Murphy's sign</th>\n",
              "      <th>Stahli's line</th>\n",
              "      <th>abdomen acute</th>\n",
              "      <th>abdominal bloating</th>\n",
              "      <th>abdominal tenderness</th>\n",
              "      <th>abnormal sensation</th>\n",
              "      <th>abnormally  hard consistency</th>\n",
              "      <th>abnormally hard consistency</th>\n",
              "      <th>...</th>\n",
              "      <th>vomiting</th>\n",
              "      <th>weepiness</th>\n",
              "      <th>weight gain</th>\n",
              "      <th>welt</th>\n",
              "      <th>wheelchair bound</th>\n",
              "      <th>wheezing</th>\n",
              "      <th>withdraw</th>\n",
              "      <th>worry</th>\n",
              "      <th>yellow  sputum</th>\n",
              "      <th>yellow sputum</th>\n",
              "    </tr>\n",
              "  </thead>\n",
              "  <tbody>\n",
              "    <tr>\n",
              "      <th>0</th>\n",
              "      <td>hypertensive  disease</td>\n",
              "      <td>0</td>\n",
              "      <td>0</td>\n",
              "      <td>0</td>\n",
              "      <td>0</td>\n",
              "      <td>0</td>\n",
              "      <td>0</td>\n",
              "      <td>0</td>\n",
              "      <td>0</td>\n",
              "      <td>0</td>\n",
              "      <td>...</td>\n",
              "      <td>0</td>\n",
              "      <td>0</td>\n",
              "      <td>0</td>\n",
              "      <td>0</td>\n",
              "      <td>0</td>\n",
              "      <td>0</td>\n",
              "      <td>0</td>\n",
              "      <td>0</td>\n",
              "      <td>0</td>\n",
              "      <td>0</td>\n",
              "    </tr>\n",
              "    <tr>\n",
              "      <th>1</th>\n",
              "      <td>diabetes</td>\n",
              "      <td>0</td>\n",
              "      <td>0</td>\n",
              "      <td>0</td>\n",
              "      <td>0</td>\n",
              "      <td>0</td>\n",
              "      <td>0</td>\n",
              "      <td>0</td>\n",
              "      <td>0</td>\n",
              "      <td>0</td>\n",
              "      <td>...</td>\n",
              "      <td>1</td>\n",
              "      <td>0</td>\n",
              "      <td>0</td>\n",
              "      <td>0</td>\n",
              "      <td>0</td>\n",
              "      <td>0</td>\n",
              "      <td>0</td>\n",
              "      <td>0</td>\n",
              "      <td>0</td>\n",
              "      <td>0</td>\n",
              "    </tr>\n",
              "    <tr>\n",
              "      <th>2</th>\n",
              "      <td>depression  mental</td>\n",
              "      <td>0</td>\n",
              "      <td>0</td>\n",
              "      <td>0</td>\n",
              "      <td>0</td>\n",
              "      <td>0</td>\n",
              "      <td>0</td>\n",
              "      <td>0</td>\n",
              "      <td>0</td>\n",
              "      <td>0</td>\n",
              "      <td>...</td>\n",
              "      <td>0</td>\n",
              "      <td>1</td>\n",
              "      <td>0</td>\n",
              "      <td>0</td>\n",
              "      <td>0</td>\n",
              "      <td>0</td>\n",
              "      <td>0</td>\n",
              "      <td>1</td>\n",
              "      <td>0</td>\n",
              "      <td>0</td>\n",
              "    </tr>\n",
              "    <tr>\n",
              "      <th>3</th>\n",
              "      <td>depressive disorder</td>\n",
              "      <td>0</td>\n",
              "      <td>0</td>\n",
              "      <td>0</td>\n",
              "      <td>0</td>\n",
              "      <td>0</td>\n",
              "      <td>0</td>\n",
              "      <td>0</td>\n",
              "      <td>0</td>\n",
              "      <td>0</td>\n",
              "      <td>...</td>\n",
              "      <td>0</td>\n",
              "      <td>1</td>\n",
              "      <td>0</td>\n",
              "      <td>0</td>\n",
              "      <td>0</td>\n",
              "      <td>0</td>\n",
              "      <td>0</td>\n",
              "      <td>1</td>\n",
              "      <td>0</td>\n",
              "      <td>0</td>\n",
              "    </tr>\n",
              "    <tr>\n",
              "      <th>4</th>\n",
              "      <td>coronary  arteriosclerosis</td>\n",
              "      <td>0</td>\n",
              "      <td>0</td>\n",
              "      <td>0</td>\n",
              "      <td>0</td>\n",
              "      <td>0</td>\n",
              "      <td>0</td>\n",
              "      <td>0</td>\n",
              "      <td>0</td>\n",
              "      <td>0</td>\n",
              "      <td>...</td>\n",
              "      <td>0</td>\n",
              "      <td>0</td>\n",
              "      <td>0</td>\n",
              "      <td>0</td>\n",
              "      <td>0</td>\n",
              "      <td>0</td>\n",
              "      <td>0</td>\n",
              "      <td>0</td>\n",
              "      <td>0</td>\n",
              "      <td>0</td>\n",
              "    </tr>\n",
              "  </tbody>\n",
              "</table>\n",
              "<p>5 rows × 446 columns</p>\n",
              "</div>\n",
              "      <button class=\"colab-df-convert\" onclick=\"convertToInteractive('df-9f4445c4-9984-4d4d-b4be-683dcfa8e566')\"\n",
              "              title=\"Convert this dataframe to an interactive table.\"\n",
              "              style=\"display:none;\">\n",
              "        \n",
              "  <svg xmlns=\"http://www.w3.org/2000/svg\" height=\"24px\"viewBox=\"0 0 24 24\"\n",
              "       width=\"24px\">\n",
              "    <path d=\"M0 0h24v24H0V0z\" fill=\"none\"/>\n",
              "    <path d=\"M18.56 5.44l.94 2.06.94-2.06 2.06-.94-2.06-.94-.94-2.06-.94 2.06-2.06.94zm-11 1L8.5 8.5l.94-2.06 2.06-.94-2.06-.94L8.5 2.5l-.94 2.06-2.06.94zm10 10l.94 2.06.94-2.06 2.06-.94-2.06-.94-.94-2.06-.94 2.06-2.06.94z\"/><path d=\"M17.41 7.96l-1.37-1.37c-.4-.4-.92-.59-1.43-.59-.52 0-1.04.2-1.43.59L10.3 9.45l-7.72 7.72c-.78.78-.78 2.05 0 2.83L4 21.41c.39.39.9.59 1.41.59.51 0 1.02-.2 1.41-.59l7.78-7.78 2.81-2.81c.8-.78.8-2.07 0-2.86zM5.41 20L4 18.59l7.72-7.72 1.47 1.35L5.41 20z\"/>\n",
              "  </svg>\n",
              "      </button>\n",
              "      \n",
              "  <style>\n",
              "    .colab-df-container {\n",
              "      display:flex;\n",
              "      flex-wrap:wrap;\n",
              "      gap: 12px;\n",
              "    }\n",
              "\n",
              "    .colab-df-convert {\n",
              "      background-color: #E8F0FE;\n",
              "      border: none;\n",
              "      border-radius: 50%;\n",
              "      cursor: pointer;\n",
              "      display: none;\n",
              "      fill: #1967D2;\n",
              "      height: 32px;\n",
              "      padding: 0 0 0 0;\n",
              "      width: 32px;\n",
              "    }\n",
              "\n",
              "    .colab-df-convert:hover {\n",
              "      background-color: #E2EBFA;\n",
              "      box-shadow: 0px 1px 2px rgba(60, 64, 67, 0.3), 0px 1px 3px 1px rgba(60, 64, 67, 0.15);\n",
              "      fill: #174EA6;\n",
              "    }\n",
              "\n",
              "    [theme=dark] .colab-df-convert {\n",
              "      background-color: #3B4455;\n",
              "      fill: #D2E3FC;\n",
              "    }\n",
              "\n",
              "    [theme=dark] .colab-df-convert:hover {\n",
              "      background-color: #434B5C;\n",
              "      box-shadow: 0px 1px 3px 1px rgba(0, 0, 0, 0.15);\n",
              "      filter: drop-shadow(0px 1px 2px rgba(0, 0, 0, 0.3));\n",
              "      fill: #FFFFFF;\n",
              "    }\n",
              "  </style>\n",
              "\n",
              "      <script>\n",
              "        const buttonEl =\n",
              "          document.querySelector('#df-9f4445c4-9984-4d4d-b4be-683dcfa8e566 button.colab-df-convert');\n",
              "        buttonEl.style.display =\n",
              "          google.colab.kernel.accessAllowed ? 'block' : 'none';\n",
              "\n",
              "        async function convertToInteractive(key) {\n",
              "          const element = document.querySelector('#df-9f4445c4-9984-4d4d-b4be-683dcfa8e566');\n",
              "          const dataTable =\n",
              "            await google.colab.kernel.invokeFunction('convertToInteractive',\n",
              "                                                     [key], {});\n",
              "          if (!dataTable) return;\n",
              "\n",
              "          const docLinkHtml = 'Like what you see? Visit the ' +\n",
              "            '<a target=\"_blank\" href=https://colab.research.google.com/notebooks/data_table.ipynb>data table notebook</a>'\n",
              "            + ' to learn more about interactive tables.';\n",
              "          element.innerHTML = '';\n",
              "          dataTable['output_type'] = 'display_data';\n",
              "          await google.colab.output.renderOutput(dataTable, element);\n",
              "          const docLink = document.createElement('div');\n",
              "          docLink.innerHTML = docLinkHtml;\n",
              "          element.appendChild(docLink);\n",
              "        }\n",
              "      </script>\n",
              "    </div>\n",
              "  </div>\n",
              "  "
            ],
            "text/plain": [
              "                     diseases  Heberden's node  Murphy's sign  Stahli's line  \\\n",
              "0       hypertensive  disease                0              0              0   \n",
              "1                    diabetes                0              0              0   \n",
              "2          depression  mental                0              0              0   \n",
              "3         depressive disorder                0              0              0   \n",
              "4  coronary  arteriosclerosis                0              0              0   \n",
              "\n",
              "   abdomen acute  abdominal bloating  abdominal tenderness  \\\n",
              "0              0                   0                     0   \n",
              "1              0                   0                     0   \n",
              "2              0                   0                     0   \n",
              "3              0                   0                     0   \n",
              "4              0                   0                     0   \n",
              "\n",
              "   abnormal sensation  abnormally  hard consistency  \\\n",
              "0                   0                             0   \n",
              "1                   0                             0   \n",
              "2                   0                             0   \n",
              "3                   0                             0   \n",
              "4                   0                             0   \n",
              "\n",
              "   abnormally hard consistency  ...  vomiting  weepiness  weight gain  welt  \\\n",
              "0                            0  ...         0          0            0     0   \n",
              "1                            0  ...         1          0            0     0   \n",
              "2                            0  ...         0          1            0     0   \n",
              "3                            0  ...         0          1            0     0   \n",
              "4                            0  ...         0          0            0     0   \n",
              "\n",
              "   wheelchair bound  wheezing  withdraw  worry  yellow  sputum  yellow sputum  \n",
              "0                 0         0         0      0               0              0  \n",
              "1                 0         0         0      0               0              0  \n",
              "2                 0         0         0      1               0              0  \n",
              "3                 0         0         0      1               0              0  \n",
              "4                 0         0         0      0               0              0  \n",
              "\n",
              "[5 rows x 446 columns]"
            ]
          },
          "execution_count": 7,
          "metadata": {},
          "output_type": "execute_result"
        }
      ],
      "source": [
        "multi_label_binarizer = MultiLabelBinarizer()\n",
        "symptoms_encoded = pd.DataFrame(multi_label_binarizer.fit_transform(cleaned_data['symptoms']), columns=multi_label_binarizer.classes_, index=cleaned_data['symptoms'].index)\n",
        "dataset = pd.concat([cleaned_data['diseases'], symptoms_encoded], axis=1)\n",
        "dataset = dataset.drop([''], axis=1)\n",
        "dataset.to_csv('final_disease_symptom_data1.csv')\n",
        "dataset.head()"
      ]
    },
    {
      "cell_type": "code",
      "execution_count": null,
      "metadata": {
        "colab": {
          "background_save": true
        },
        "id": "9L1rrEzjCgbP",
        "outputId": "4bdc5704-513b-4b2e-9ec2-f28862ee29a9"
      },
      "outputs": [
        {
          "data": {
            "text/plain": [
              "0.0"
            ]
          },
          "execution_count": 8,
          "metadata": {},
          "output_type": "execute_result"
        }
      ],
      "source": [
        "# Using split\n",
        "y = dataset['diseases'].values\n",
        "X = dataset.drop('diseases', axis = 1).values\n",
        "\n",
        "X_train, X_test, y_train, y_test = train_test_split(X, y, test_size=0.3, random_state=42)\n",
        "\n",
        "decision_tree = DecisionTreeClassifier()\n",
        "decision_tree = decision_tree.fit(X_train, y_train)\n",
        "decision_tree.score(X_test, y_test)\n",
        "\n",
        "# Won't work because the symptoms for each diseases are unique. The model has never seen the test data. Hence, the score is 0.\n",
        "# To Do: Find a way to efficiently split the dataset"
      ]
    },
    {
      "cell_type": "markdown",
      "metadata": {
        "id": "yltJL1M9OBWR"
      },
      "source": [
        "### Estimation des modèles"
      ]
    },
    {
      "cell_type": "code",
      "execution_count": null,
      "metadata": {
        "colab": {
          "background_save": true
        },
        "id": "eySh3ODECgbQ",
        "outputId": "3bb31915-8200-42d6-b1cb-0b7672f77906"
      },
      "outputs": [
        {
          "name": "stdout",
          "output_type": "stream",
          "text": [
            "['hypertensive  disease' 'diabetes' 'depression  mental'\n",
            " 'depressive disorder' 'coronary  arteriosclerosis'\n",
            " 'coronary heart disease' 'pneumonia' 'failure  heart congestive'\n",
            " 'accident  cerebrovascular' 'asthma' 'myocardial  infarction'\n",
            " 'hypercholesterolemia' 'infection' 'infection  urinary tract' 'anemia'\n",
            " 'chronic  obstructive airway disease' 'dementia' 'insufficiency  renal'\n",
            " 'confusion' 'degenerative  polyarthritis' 'hypothyroidism'\n",
            " 'anxiety  state' 'malignant  neoplasms' 'primary malignant neoplasm'\n",
            " 'acquired  immuno-deficiency  syndrome' 'HIV' 'hiv infections'\n",
            " 'cellulitis' 'gastroesophageal  reflux disease' 'septicemia'\n",
            " 'systemic  infection' 'sepsis (invertebrate)' 'deep  vein thrombosis'\n",
            " 'dehydration' 'neoplasm' 'embolism  pulmonary' 'epilepsy'\n",
            " 'cardiomyopathy' 'chronic  kidney failure' 'carcinoma' 'hepatitis  C'\n",
            " 'peripheral  vascular disease' 'psychotic  disorder' 'hyperlipidemia'\n",
            " 'bipolar  disorder' 'obesity' 'ischemia' 'cirrhosis' 'exanthema'\n",
            " 'benign  prostatic hypertrophy' 'kidney  failure acute'\n",
            " 'mitral  valve insufficiency' 'arthritis' 'bronchitis' 'hemiparesis'\n",
            " 'osteoporosis' 'transient  ischemic attack' 'adenocarcinoma' 'paranoia'\n",
            " 'pancreatitis' 'incontinence' 'paroxysmal  dyspnea' 'hernia'\n",
            " 'malignant  neoplasm of prostate' 'carcinoma prostate' 'edema  pulmonary'\n",
            " 'lymphatic  diseases' 'stenosis  aortic valve'\n",
            " 'malignant  neoplasm of breast' 'carcinoma breast' 'schizophrenia'\n",
            " 'diverticulitis' 'overload  fluid' 'ulcer  peptic' 'osteomyelitis'\n",
            " 'gastritis' 'bacteremia' 'failure  kidney' 'sickle  cell anemia'\n",
            " 'failure  heart' 'upper  respiratory infection' 'hepatitis'\n",
            " 'hypertension  pulmonary' 'deglutition  disorder' 'gout'\n",
            " 'thrombocytopaenia' 'hypoglycemia' 'pneumonia  aspiration' 'colitis'\n",
            " 'diverticulosis' 'suicide  attempt' 'Pneumocystis  carinii pneumonia'\n",
            " 'hepatitis  B' 'parkinson  disease' 'lymphoma' 'hyperglycemia'\n",
            " 'encephalopathy' 'tricuspid  valve insufficiency' \"Alzheimer's  disease\"\n",
            " 'candidiasis' 'oral  candidiasis' 'neuropathy' 'kidney  disease'\n",
            " 'fibroid  tumor' 'glaucoma' 'neoplasm  metastasis'\n",
            " 'malignant  tumor of colon' 'carcinoma colon' 'ketoacidosis  diabetic'\n",
            " 'tonic-clonic  epilepsy' 'tonic-clonic seizures' 'respiratory  failure'\n",
            " 'melanoma' 'gastroenteritis' 'malignant  neoplasm of lung'\n",
            " 'carcinoma of lung' 'manic  disorder' 'personality  disorder'\n",
            " 'primary  carcinoma of the liver cells' 'emphysema  pulmonary'\n",
            " 'hemorrhoids' 'spasm  bronchial' 'aphasia' 'obesity  morbid'\n",
            " 'pyelonephritis' 'endocarditis' 'effusion  pericardial'\n",
            " 'pericardial effusion body substance' 'chronic  alcoholic intoxication'\n",
            " 'pneumothorax' 'delirium' 'neutropenia' 'hyperbilirubinemia' 'influenza'\n",
            " 'dependence' 'thrombus' 'cholecystitis' 'hernia  hiatal'\n",
            " 'migraine  disorders' 'pancytopenia' 'cholelithiasis' 'biliary  calculus'\n",
            " 'tachycardia  sinus' 'ileus' 'adhesion' 'delusion' 'affect  labile'\n",
            " 'decubitus  ulcer']\n"
          ]
        },
        {
          "data": {
            "text/plain": [
              "0.9054054054054054"
            ]
          },
          "execution_count": 13,
          "metadata": {},
          "output_type": "execute_result"
        }
      ],
      "source": [
        "# Decision Tree Classifier\n",
        "# Using split\n",
        "y = dataset['diseases'].values\n",
        "X = dataset.drop('diseases', axis = 1).values\n",
        "print(y)\n",
        "decision_tree = DecisionTreeClassifier()\n",
        "decision_tree = decision_tree.fit(X, y)\n",
        "decision_tree.score(X, y)"
      ]
    },
    {
      "cell_type": "code",
      "execution_count": null,
      "metadata": {
        "colab": {
          "background_save": true
        },
        "id": "YZ50DVjZCgbQ",
        "outputId": "147eba22-c854-45c6-d381-e8de52ac7ee1"
      },
      "outputs": [
        {
          "data": {
            "text/plain": [
              "445"
            ]
          },
          "execution_count": 14,
          "metadata": {},
          "output_type": "execute_result"
        }
      ],
      "source": [
        "features = np.asarray(dataset.columns)\n",
        "features = np.delete(features, 0)\n",
        "classes = np.asarray(dataset['diseases'])\n",
        "len(features)"
      ]
    },
    {
      "cell_type": "code",
      "execution_count": null,
      "metadata": {
        "colab": {
          "background_save": true
        },
        "id": "wg3ijD1uCgbR",
        "outputId": "2503025f-b28c-40ff-d5ea-a55bc4ab445f"
      },
      "outputs": [
        {
          "name": "stdout",
          "output_type": "stream",
          "text": [
            "|--- underweight <= 0.50\n",
            "|   |--- feeling hopeless <= 0.50\n",
            "|   |   |--- weepiness <= 0.50\n",
            "|   |   |   |--- hydropneumothorax <= 0.50\n",
            "|   |   |   |   |--- passed stones <= 0.50\n",
            "|   |   |   |   |   |--- clammy skin <= 0.50\n",
            "|   |   |   |   |   |   |--- angina pectoris <= 0.50\n",
            "|   |   |   |   |   |   |   |--- hypoxemia <= 0.50\n",
            "|   |   |   |   |   |   |   |   |--- productive cough <= 0.50\n",
            "|   |   |   |   |   |   |   |   |   |--- hyperkalemia <= 0.50\n",
            "|   |   |   |   |   |   |   |   |   |   |--- stupor <= 0.50\n",
            "|   |   |   |   |   |   |   |   |   |   |   |--- truncated branch of depth 36\n",
            "|   |   |   |   |   |   |   |   |   |   |--- stupor >  0.50\n",
            "|   |   |   |   |   |   |   |   |   |   |   |--- truncated branch of depth 3\n",
            "|   |   |   |   |   |   |   |   |   |--- hyperkalemia >  0.50\n",
            "|   |   |   |   |   |   |   |   |   |   |--- orthopnea <= 0.50\n",
            "|   |   |   |   |   |   |   |   |   |   |   |--- truncated branch of depth 3\n",
            "|   |   |   |   |   |   |   |   |   |   |--- orthopnea >  0.50\n",
            "|   |   |   |   |   |   |   |   |   |   |   |--- truncated branch of depth 4\n",
            "|   |   |   |   |   |   |   |   |--- productive cough >  0.50\n",
            "|   |   |   |   |   |   |   |   |   |--- tachypnea <= 0.50\n",
            "|   |   |   |   |   |   |   |   |   |   |--- nasal discharge present <= 0.50\n",
            "|   |   |   |   |   |   |   |   |   |   |   |--- truncated branch of depth 2\n",
            "|   |   |   |   |   |   |   |   |   |   |--- nasal discharge present >  0.50\n",
            "|   |   |   |   |   |   |   |   |   |   |   |--- class: upper  respiratory infection\n",
            "|   |   |   |   |   |   |   |   |   |--- tachypnea >  0.50\n",
            "|   |   |   |   |   |   |   |   |   |   |--- spontaneous rupture of membranes <= 0.50\n",
            "|   |   |   |   |   |   |   |   |   |   |   |--- class: respiratory  failure\n",
            "|   |   |   |   |   |   |   |   |   |   |--- spontaneous rupture of membranes >  0.50\n",
            "|   |   |   |   |   |   |   |   |   |   |   |--- class: HIV\n",
            "|   |   |   |   |   |   |   |--- hypoxemia >  0.50\n",
            "|   |   |   |   |   |   |   |   |--- tachypnea <= 0.50\n",
            "|   |   |   |   |   |   |   |   |   |--- class: chronic  obstructive airway disease\n",
            "|   |   |   |   |   |   |   |   |--- tachypnea >  0.50\n",
            "|   |   |   |   |   |   |   |   |   |--- vomiting <= 0.50\n",
            "|   |   |   |   |   |   |   |   |   |   |--- class: embolism  pulmonary\n",
            "|   |   |   |   |   |   |   |   |   |--- vomiting >  0.50\n",
            "|   |   |   |   |   |   |   |   |   |   |--- class: spasm  bronchial\n",
            "|   |   |   |   |   |   |--- angina pectoris >  0.50\n",
            "|   |   |   |   |   |   |   |--- chest discomfort <= 0.50\n",
            "|   |   |   |   |   |   |   |   |--- out of breath <= 0.50\n",
            "|   |   |   |   |   |   |   |   |   |--- dyspnea on exertion <= 0.50\n",
            "|   |   |   |   |   |   |   |   |   |   |--- class: peripheral  vascular disease\n",
            "|   |   |   |   |   |   |   |   |   |--- dyspnea on exertion >  0.50\n",
            "|   |   |   |   |   |   |   |   |   |   |--- class: failure  heart\n",
            "|   |   |   |   |   |   |   |   |--- out of breath >  0.50\n",
            "|   |   |   |   |   |   |   |   |   |--- class: obesity  morbid\n",
            "|   |   |   |   |   |   |   |--- chest discomfort >  0.50\n",
            "|   |   |   |   |   |   |   |   |--- dyspnea <= 0.50\n",
            "|   |   |   |   |   |   |   |   |   |--- hemiplegia <= 0.50\n",
            "|   |   |   |   |   |   |   |   |   |   |--- class: stenosis  aortic valve\n",
            "|   |   |   |   |   |   |   |   |   |--- hemiplegia >  0.50\n",
            "|   |   |   |   |   |   |   |   |   |   |--- class: hyperlipidemia\n",
            "|   |   |   |   |   |   |   |   |--- dyspnea >  0.50\n",
            "|   |   |   |   |   |   |   |   |   |--- orthopnea <= 0.50\n",
            "|   |   |   |   |   |   |   |   |   |   |--- class: ischemia\n",
            "|   |   |   |   |   |   |   |   |   |--- orthopnea >  0.50\n",
            "|   |   |   |   |   |   |   |   |   |   |--- class: myocardial  infarction\n",
            "|   |   |   |   |   |--- clammy skin >  0.50\n",
            "|   |   |   |   |   |   |--- choke <= 0.50\n",
            "|   |   |   |   |   |   |   |--- class: hypoglycemia\n",
            "|   |   |   |   |   |   |--- choke >  0.50\n",
            "|   |   |   |   |   |   |   |--- class: emphysema  pulmonary\n",
            "|   |   |   |   |--- passed stones >  0.50\n",
            "|   |   |   |   |   |--- class: carcinoma prostate\n",
            "|   |   |   |--- hydropneumothorax >  0.50\n",
            "|   |   |   |   |--- numbness <= 0.50\n",
            "|   |   |   |   |   |--- class: lymphoma\n",
            "|   |   |   |   |--- numbness >  0.50\n",
            "|   |   |   |   |   |--- class: neuropathy\n",
            "|   |   |--- weepiness >  0.50\n",
            "|   |   |   |--- intoxication <= 0.50\n",
            "|   |   |   |   |--- class: suicide  attempt\n",
            "|   |   |   |--- intoxication >  0.50\n",
            "|   |   |   |   |--- class: depression  mental\n",
            "|   |--- feeling hopeless >  0.50\n",
            "|   |   |--- catatonia <= 0.50\n",
            "|   |   |   |--- hallucinations auditory <= 0.50\n",
            "|   |   |   |   |--- hallucinations visual <= 0.50\n",
            "|   |   |   |   |   |--- fecaluria <= 0.50\n",
            "|   |   |   |   |   |   |--- class: dependence\n",
            "|   |   |   |   |   |--- fecaluria >  0.50\n",
            "|   |   |   |   |   |   |--- class: diverticulosis\n",
            "|   |   |   |   |--- hallucinations visual >  0.50\n",
            "|   |   |   |   |   |--- class: affect  labile\n",
            "|   |   |   |--- hallucinations auditory >  0.50\n",
            "|   |   |   |   |--- has religious belief <= 0.50\n",
            "|   |   |   |   |   |--- blanch <= 0.50\n",
            "|   |   |   |   |   |   |--- hoard <= 0.50\n",
            "|   |   |   |   |   |   |   |--- class: personality  disorder\n",
            "|   |   |   |   |   |   |--- hoard >  0.50\n",
            "|   |   |   |   |   |   |   |--- class: chronic  alcoholic intoxication\n",
            "|   |   |   |   |   |--- blanch >  0.50\n",
            "|   |   |   |   |   |   |--- class: manic  disorder\n",
            "|   |   |   |   |--- has religious belief >  0.50\n",
            "|   |   |   |   |   |--- class: anxiety  state\n",
            "|   |   |--- catatonia >  0.50\n",
            "|   |   |   |--- terrify <= 0.50\n",
            "|   |   |   |   |--- class: bipolar  disorder\n",
            "|   |   |   |--- terrify >  0.50\n",
            "|   |   |   |   |--- tremor <= 0.50\n",
            "|   |   |   |   |   |--- class: delusion\n",
            "|   |   |   |   |--- tremor >  0.50\n",
            "|   |   |   |   |   |--- class: psychotic  disorder\n",
            "|--- underweight >  0.50\n",
            "|   |--- class: schizophrenia\n",
            "\n"
          ]
        }
      ],
      "source": [
        "text_representation = tree.export_text(decision_tree, feature_names=features.tolist())\n",
        "print(text_representation)"
      ]
    },
    {
      "cell_type": "code",
      "execution_count": null,
      "metadata": {
        "id": "-mKHbA4lCgbR"
      },
      "outputs": [],
      "source": [
        "dot_data = tree.export_graphviz(decision_tree, out_file=None, feature_names=features.tolist(), class_names=classes.tolist(), filled=True)\n",
        "graph = graphviz.Source(dot_data, format=\"png\") \n",
        "graph.render(\"decision_tree_graphivz\")"
      ]
    },
    {
      "cell_type": "code",
      "execution_count": null,
      "metadata": {
        "id": "Q9FdzkIOCgbR"
      },
      "outputs": [],
      "source": [
        "y_pred = decision_tree.predict(X)\n",
        "\n",
        "for i in range(0, len(y)):\n",
        "    if y_pred[i]!=y[i]:\n",
        "        print ('Predicted: {0} --------- Actual:{1}'.format(y_pred[i], y[i]))\n"
      ]
    },
    {
      "cell_type": "code",
      "execution_count": null,
      "metadata": {
        "id": "RQ9k-Ow5CgbS"
      },
      "outputs": [],
      "source": [
        "from sklearn.preprocessing import LabelEncoder\n",
        "from sklearn.metrics import classification_report\n",
        "from sklearn.metrics import confusion_matrix\n",
        "\n",
        "labelencoder = LabelEncoder()\n",
        "ye = labelencoder.fit_transform(y)\n"
      ]
    },
    {
      "cell_type": "code",
      "execution_count": null,
      "metadata": {
        "id": "OwgC3T0ZCgbS"
      },
      "outputs": [],
      "source": [
        "from sklearn.linear_model import LogisticRegression\n",
        "Logit = LogisticRegression()\n",
        "Logit.fit(X, y)\n",
        "y_predl=Logit.predict(X)\n",
        "#print(classification_report(y_predl, y))\n",
        "print(Logit.score(X, y))\n",
        "for i in range(0, len(y)):\n",
        "    if y_predl[i]!=y[i]:\n",
        "        print ('Predicted: {0} --------- Actual:{1}'.format(y_predl[i], y[i]))"
      ]
    },
    {
      "cell_type": "code",
      "execution_count": null,
      "metadata": {
        "id": "ojQjitIZCgbS"
      },
      "outputs": [],
      "source": [
        "from sklearn import svm\n",
        "SVM = svm.SVC()\n",
        "SVM.fit(X, y)\n",
        "print(SVM.score(X, y))"
      ]
    },
    {
      "cell_type": "code",
      "execution_count": null,
      "metadata": {
        "id": "rqFWdIOnCgbT"
      },
      "outputs": [],
      "source": [
        "from sklearn.linear_model import SGDClassifier\n",
        "SDG = SGDClassifier(loss=\"hinge\", penalty=\"elasticnet\", max_iter=5)\n",
        "SDG.fit(X, y)\n",
        "print(SDG.score(X, y))"
      ]
    },
    {
      "cell_type": "code",
      "execution_count": null,
      "metadata": {
        "id": "fbFCZ9YtCgbT"
      },
      "outputs": [],
      "source": [
        "from sklearn.ensemble import RandomForestClassifier\n",
        "RF = RandomForestClassifier(n_estimators=10)\n",
        "RF.fit(X, y)\n",
        "print(RF.score(X, y))"
      ]
    },
    {
      "cell_type": "code",
      "execution_count": null,
      "metadata": {
        "id": "P7MGA1MUCgbT"
      },
      "outputs": [],
      "source": [
        "from sklearn.model_selection import cross_val_score\n",
        "from sklearn.datasets import load_iris\n",
        "from sklearn.ensemble import AdaBoostClassifier\n",
        "Ada = AdaBoostClassifier(n_estimators=100)\n",
        "Ada.fit(X,y)\n",
        "print(Ada.score(X, y))"
      ]
    },
    {
      "cell_type": "code",
      "execution_count": null,
      "metadata": {
        "id": "dtW2McJTCgbU"
      },
      "outputs": [],
      "source": [
        "from sklearn.ensemble import GradientBoostingClassifier\n",
        "Gboost = GradientBoostingClassifier(n_estimators=100, learning_rate=1.0,\n",
        "    random_state=0).fit(X, y)\n",
        "Gboost.score(X, y)"
      ]
    },
    {
      "cell_type": "code",
      "execution_count": null,
      "metadata": {
        "id": "MzjjWfXPCgbU"
      },
      "outputs": [],
      "source": [
        "data=pd.read_csv(\"/content/sample_data/final_disease_symptom_data.csv\", sep=';')\n",
        "data.head()"
      ]
    },
    {
      "cell_type": "code",
      "execution_count": null,
      "metadata": {
        "id": "ziiaTuDvCgbU"
      },
      "outputs": [],
      "source": [
        "y = data['diseases'].values\n",
        "X = data.drop('diseases', axis = 1).values\n",
        "DT = DecisionTreeClassifier()\n",
        "DT = DT.fit(X, y)\n",
        "DT.score(X, y)"
      ]
    },
    {
      "cell_type": "code",
      "execution_count": null,
      "metadata": {
        "id": "VOTD2ziXCgbU"
      },
      "outputs": [],
      "source": [
        "y_pred = DT.predict(X)\n",
        "print(classification_report(y_pred, y))\n",
        "\n",
        "for i in range(0, len(y)):\n",
        "    if y_pred[i]!=y[i]:\n",
        "        print ('Predicted: {0} --------- Actual:{1}'.format(y_pred[i], y[i]))\n",
        "\n",
        "print(DT.predict_proba(X))"
      ]
    },
    {
      "cell_type": "code",
      "execution_count": null,
      "metadata": {
        "id": "rl0b4dLdCgbV"
      },
      "outputs": [],
      "source": [
        "from sklearn.linear_model import LogisticRegression\n",
        "Logit = LogisticRegression()\n",
        "Logit.fit(X, y)\n",
        "y_predl=Logit.predict(X)\n",
        "print(classification_report(y_predl, y))\n",
        "print(Logit.score(X, y))\n",
        "print(classification_report(y_predl, y))\n",
        "for i in range(0, len(y)):\n",
        "    if y_predl[i]!=y[i]:\n",
        "        print ('Predicted: {0} --------- Actual:{1}'.format(y_predl[i], y[i]))\n",
        "print(max(Logit.predict_proba(X)[5]))"
      ]
    },
    {
      "cell_type": "code",
      "execution_count": null,
      "metadata": {
        "id": "apVpYeY9CgbV"
      },
      "outputs": [],
      "source": [
        "SVM = svm.SVC(probability=True)\n",
        "SVM.fit(X, y)\n",
        "print(SVM.score(X, y))\n",
        "ySVM=SVM.predict(X)\n",
        "print(classification_report(ySVM, y))\n",
        "for i in range(0, len(y)):\n",
        "    if ySVM[i]!=y[i]:\n",
        "        print ('Predicted: {0} --------- Actual:{1}'.format(ySVM[i], y[i]))\n",
        "print(SVM.predict_proba(X))"
      ]
    },
    {
      "cell_type": "code",
      "execution_count": null,
      "metadata": {
        "id": "018EbQ9TCgbV"
      },
      "outputs": [],
      "source": [
        "from sklearn.linear_model import SGDClassifier\n",
        "SDG = SGDClassifier(loss=\"hinge\", penalty=\"l1\", max_iter=5)\n",
        "SDG.fit(X, y)\n",
        "print(SDG.score(X, y))\n",
        "ySDG=SDG.predict(X)\n",
        "print(classification_report(ySDG, y))\n",
        "for i in range(0, len(y)):\n",
        "    if ySDG[i]!=y[i]:\n",
        "        print ('Predicted: {0} --------- Actual:{1}'.format(ySDG[i], y[i]))\n"
      ]
    },
    {
      "cell_type": "code",
      "execution_count": null,
      "metadata": {
        "id": "jsThQM5LCgbV"
      },
      "outputs": [],
      "source": [
        "from sklearn.ensemble import RandomForestClassifier\n",
        "RF = RandomForestClassifier(n_estimators=10)\n",
        "RF.fit(X, y)\n",
        "print(RF.score(X, y))\n",
        "yRF=RF.predict(X)\n",
        "print(classification_report(yRF, y))\n",
        "for i in range(0, len(y)):\n",
        "    if yRF[i]!=y[i]:\n",
        "        print ('Predicted: {0} --------- Actual:{1}'.format(yRF[i], y[i]))\n",
        "print(RF.predict_proba(X))"
      ]
    },
    {
      "cell_type": "code",
      "execution_count": null,
      "metadata": {
        "id": "KTFeG-1qCgbW"
      },
      "outputs": [],
      "source": [
        "from sklearn.model_selection import cross_val_score\n",
        "from sklearn.datasets import load_iris\n",
        "from sklearn.ensemble import AdaBoostClassifier\n",
        "Ada = AdaBoostClassifier(n_estimators=100)\n",
        "Ada.fit(X,y)\n",
        "print(Ada.score(X, y))"
      ]
    },
    {
      "cell_type": "code",
      "execution_count": null,
      "metadata": {
        "id": "6Lwq0BVOCgbW"
      },
      "outputs": [],
      "source": [
        "from sklearn.ensemble import GradientBoostingClassifier\n",
        "Gboost = GradientBoostingClassifier(n_estimators=100, learning_rate=1.0,\n",
        "    random_state=0).fit(X, y)\n",
        "print(Gboost.score(X, y))\n",
        "yGboo=Gboost.predict(X)\n",
        "print(classification_report(yGboo, y))\n",
        "for i in range(0, len(y)):\n",
        "    if yGboo[i]!=y[i]:\n",
        "        print ('Predicted: {0} --------- Actual:{1}'.format(yGboo[i], y[i]))\n",
        "print(Gboost.predict_proba(X))"
      ]
    },
    {
      "cell_type": "markdown",
      "metadata": {
        "id": "IUovHMVmNd-E"
      },
      "source": [
        "### Benchmark des différents modèle"
      ]
    },
    {
      "cell_type": "code",
      "execution_count": null,
      "metadata": {
        "id": "LgOBrNH-RUOM"
      },
      "outputs": [],
      "source": [
        "Benchmark=pd.DataFrame({ \"Algorithme\":[\"Decision Tree\", \"Regression Logistique\", \"SVM\", \"SDG Classifier\",\"Random Forest\", \"Gradient Boosting\"],\n",
        "                         \"Acurracy\":[ 0.95, 0.95, 0.94, 0.94, 0.95, 0.95],\n",
        "                         \"Recall\":[0.93, 0.93, 0.92, 0.91, 0.93, 0.93],\n",
        "                         \"F1-score\": [0.93, 0.93, 0.93, 0.92, 0.93, 0.93]    \n",
        "                        }\n",
        "                       )\n",
        "Benchmark"
      ]
    },
    {
      "cell_type": "markdown",
      "metadata": {
        "id": "SLzN8K_5VL5K"
      },
      "source": [
        "### Extraction des symptômes et similarité semantique"
      ]
    },
    {
      "cell_type": "code",
      "execution_count": null,
      "metadata": {
        "id": "iDYRT5Q2h6Xr"
      },
      "outputs": [],
      "source": [
        "! pip install torch"
      ]
    },
    {
      "cell_type": "code",
      "execution_count": null,
      "metadata": {
        "id": "0vznP5jOik5E"
      },
      "outputs": [],
      "source": [
        "! pip install transformers"
      ]
    },
    {
      "cell_type": "code",
      "execution_count": null,
      "metadata": {
        "id": "172lV2N8i555"
      },
      "outputs": [],
      "source": [
        "! pip install sentence-transformers"
      ]
    },
    {
      "cell_type": "code",
      "execution_count": null,
      "metadata": {
        "id": "NMWW6-5tjElx"
      },
      "outputs": [],
      "source": [
        "from sentence_transformers import SentenceTransformer, util\n",
        "import numpy as np"
      ]
    },
    {
      "cell_type": "code",
      "execution_count": null,
      "metadata": {
        "id": "AloPsi7FlBz-"
      },
      "outputs": [],
      "source": [
        "model = SentenceTransformer('stsb-roberta-large')"
      ]
    },
    {
      "cell_type": "code",
      "execution_count": null,
      "metadata": {
        "id": "QlwawxuUYOV8"
      },
      "outputs": [],
      "source": [
        ""
      ]
    },
    {
      "cell_type": "code",
      "execution_count": null,
      "metadata": {
        "id": "5YEt9HYUNKNV"
      },
      "outputs": [],
      "source": [
        "def similarity_fun(description, symptoms=features):\n",
        "  # encode symptoms to get corpus embeddings\n",
        "  feature_embeddings = model.encode(symptoms, convert_to_tensor=True)\n",
        "  # encode sentence to get sentence embeddings\n",
        "  description_embeddings= model.encode(description, convert_to_tensor=True) \n",
        "  # top_k results to return\n",
        "  top_k=1\n",
        "  # compute similarity scores of the sentence with the corpus\n",
        "  symptoms_extrait=[]\n",
        "  symptoms_indice=[]\n",
        "  X=np.zeros(len(symptoms))\n",
        "  cos_scores = util.pytorch_cos_sim(description_embeddings,  feature_embeddings)\n",
        "  for i,cos_score in enumerate(cos_scores):\n",
        "    # Sort the results in decreasing order and get the first top_k\n",
        "    top_results = np.argpartition(-cos_score, range(top_k))[0:top_k]\n",
        "    print(\"Sentence:\", description[i], \"\\n\")\n",
        "    print(\"Top\", top_k, \"most similar sentences in corpus:\")\n",
        "    for idx in top_results[0:top_k]:\n",
        "        print(symptoms[idx], \"(Score: %.4f)\" % (cos_score[idx]))\n",
        "        symptoms_extrait.append(symptoms[idx])\n",
        "        symptoms_indice.append(idx)\n",
        "        X[idx]=1\n",
        "    print('----------------------------------------')\n",
        "  return symptoms_extrait, symptoms_indice, X"
      ]
    },
    {
      "cell_type": "code",
      "execution_count": null,
      "metadata": {
        "id": "ENL75DHfIKif"
      },
      "outputs": [],
      "source": [
        "desc=[\n",
        "      \"I have congestion\",\n",
        "      \"she has been suctioning yellow discharge from the patient's nares\", \n",
        "      \"she has noticed some mild problems with his breathing while feeding\",\n",
        "      \"also noticed a tactile temperature and gave the patient Tylenol\",\n",
        "      \"respiratory congestion\",\n",
        "      \"fatigue \",\n",
        "      \"fussy over the past 2 days\",\n",
        "      \"His urine output has also decreased\",\n",
        "      \"diarrhea\",\n",
        "      \"His bowel movements are yellow colored and soft in nature\"\n",
        "]"
      ]
    },
    {
      "cell_type": "code",
      "execution_count": null,
      "metadata": {
        "id": "_Qlhl4xnaUA5"
      },
      "outputs": [],
      "source": [
        "symptom, sympindice, x_to_pred =similarity_fun(desc)\n",
        "print(symptom)\n",
        "print(x_to_pred)"
      ]
    },
    {
      "cell_type": "code",
      "execution_count": null,
      "metadata": {
        "id": "8pnKYF68kqKl"
      },
      "outputs": [],
      "source": [
        "from sklearn.preprocessing import LabelEncoder\n",
        "labelencoder = LabelEncoder()\n",
        "ye = labelencoder.fit_transform(y)\n"
      ]
    },
    {
      "cell_type": "code",
      "execution_count": null,
      "metadata": {
        "id": "ytc8lLxJke5H"
      },
      "outputs": [],
      "source": [
        "\n",
        "from sklearn.linear_model import LogisticRegression\n",
        "Logit = LogisticRegression()\n",
        "Logit.fit(X, ye)\n",
        "y_predl=Logit.predict(X)\n",
        "print(classification_report(y_predl, ye))\n",
        "print(Logit.score(X, ye))\n",
        "print(classification_report(y_predl, ye))\n",
        "for i in range(0, len(y)):\n",
        "    if y_predl[i]!=ye[i]:\n",
        "        print ('Predicted: {0} --------- Actual:{1}'.format(y_predl[i], ye[i]))\n",
        "print(max(Logit.predict_proba(X)[5]))"
      ]
    },
    {
      "cell_type": "code",
      "execution_count": null,
      "metadata": {
        "id": "Of0RhckbYTft"
      },
      "outputs": [],
      "source": [
        "y_predxl=labelencoder.inverse_transform(Logit.predict([x_to_pred]))\n",
        "print(y_predxl)\n",
        "prob=Logit.predict_proba([x_to_pred])\n",
        "#print(prob[0])\n",
        "resumal= np.argpartition(-prob[0], range(5))[:5]\n",
        "#print(resumal)\n",
        "Dis=labelencoder.inverse_transform(resumal)\n",
        "#print(Dis)\n",
        "for i,j in zip(Dis,resumal):\n",
        "  print(i,' : ', round(prob[0][j]*100, 2),'%')"
      ]
    },
    {
      "cell_type": "code",
      "execution_count": null,
      "metadata": {
        "id": "9HhFVrzX00ie"
      },
      "outputs": [],
      "source": [
        "import pickle\n",
        "pkl_filename=\"pickle_model.pkl\"\n",
        "with open(pkl_filename,'wb') as file:\n",
        "  pickle.dump(Logit, file)\n",
        "\n",
        "#with open(pkl_filename,'rb') as file:\n",
        "#  Logit_model=pickle.load(Logit, file)"
      ]
    },
    {
      "cell_type": "code",
      "execution_count": null,
      "metadata": {
        "id": "G9X7cY1McMx9"
      },
      "outputs": [],
      "source": [
        "# Implementing the Visual Tree\n",
        "from sklearn.tree import _tree\n",
        "from sklearn import tree\n",
        "#tree.plot_tree(classifier)"
      ]
    },
    {
      "cell_type": "markdown",
      "metadata": {
        "id": "pR04xsLzbV4g"
      },
      "source": [
        "### Modèle basé sur la description"
      ]
    },
    {
      "cell_type": "code",
      "execution_count": null,
      "metadata": {
        "id": "RZ3OyRxtCgbY"
      },
      "outputs": [],
      "source": [
        "def preprocess(textDoc):\n",
        "    corpus_lemetized=[]\n",
        "    \n",
        "    #creating a Lemmatizer\n",
        "    lemmmatizer=WordNetLemmatizer()#define the imported library\n",
        "  \n",
        "    for text in textDoc:\n",
        "        text = text.lower() \n",
        "        text = re.sub('((www\\.[^\\s]+)|(https?://[^\\s]+))', \"\", text) #  Remove special html characters such as website link, http/https/www\n",
        "        text = re.sub('[!\"#$%&\\'()*+,-./:;<=>?@[\\]^_`{|}~]', \"\", text) # Remove Punctuations special characters such as #, $, %\n",
        "        text = re.sub(\"\\d+\", \"\", text) # Remove any numerical values present in the dataset\n",
        "    \n",
        "        words = word_tokenize(text)\n",
        "        words = [lemmmatizer.lemmatize(word.lower()) for word in words if(not word in set(stopwords.words('english')) and  word.isalpha())]\n",
        "        corpus_lemetized.append(words)\n",
        "        \n",
        "    return  corpus_lemetized        "
      ]
    },
    {
      "cell_type": "code",
      "execution_count": null,
      "metadata": {
        "id": "lAcBV5NRcZ4-"
      },
      "outputs": [],
      "source": [
        "desc_data=pd.read_csv(\"/content/sample_data/Disease_Description_ICD11.csv\", encoding = 'ISO-8859-1', sep=';')\n",
        "desc_data.head()"
      ]
    },
    {
      "cell_type": "code",
      "execution_count": null,
      "metadata": {
        "id": "3hGuJ3eH8V-j"
      },
      "outputs": [],
      "source": [
        "from networkx.algorithms.traversal.breadth_first_search import descendants_at_distance\n",
        "import re\n",
        "def preprocess_text(text):\n",
        "  text = text.encode(\"ascii\", errors=\"ignore\").decode(\"ascii\")  # remove non-ascii, Chinese characters\n",
        "  text = text.lower()\n",
        "    # lower case\n",
        "  text = re.sub(r\"\\n\", \" \", text)\n",
        "  text = re.sub(r\"\\n\\n\", \" \", text)\n",
        "  text = re.sub(r\"\\t\", \" \", text)\n",
        "  text = re.sub(\"\\d+\", \"\", text) \n",
        "  \n",
        "  return text\n"
      ]
    },
    {
      "cell_type": "code",
      "execution_count": null,
      "metadata": {
        "id": "O0S7Mk0A5Rub"
      },
      "outputs": [],
      "source": [
        "data_description=list(desc_data['Description'])\n",
        "data_disease=list(desc_data['Disease '])\n",
        "desc_clean=[]\n",
        "for i in data_description:\n",
        "  desc_clean.append(preprocess_text(i))\n",
        "print(len(data_disease))\n",
        "print(len(desc_clean))"
      ]
    },
    {
      "cell_type": "code",
      "execution_count": null,
      "metadata": {
        "id": "rLLbwXaxCgbY"
      },
      "outputs": [],
      "source": [
        "from sklearn.feature_extraction.text import TfidfVectorizer\n",
        "vectorizer = TfidfVectorizer(stop_words = 'english')\n",
        "X_desc=vectorizer.fit_transform(desc_clean)\n",
        "X_data=X_desc.toarray()\n",
        "print(len(X_data))"
      ]
    },
    {
      "cell_type": "code",
      "execution_count": null,
      "metadata": {
        "id": "P5TnV0s_ACMH"
      },
      "outputs": [],
      "source": [
        "from sklearn.svm import LinearSVC\n",
        "from sklearn.metrics import classification_report\n",
        "\n",
        "classifier_svm =LinearSVC()\n",
        "classifier_svm.fit(X_desc, data_disease)\n",
        "desc_disease_predict=classifier_svm.predict(X_desc)\n",
        "print(classification_report(data_disease,desc_disease_predict))\n",
        "scores=classifier_svm.score(X_desc,data_disease)\n",
        "print(scores)"
      ]
    },
    {
      "cell_type": "code",
      "execution_count": null,
      "metadata": {
        "id": "c9fL6K0zHavo"
      },
      "outputs": [],
      "source": [
        "from sklearn.linear_model import LogisticRegression\n",
        "Log = LogisticRegression()\n",
        "from sklearn.metrics import classification_report\n",
        "\n",
        "from sklearn.preprocessing import LabelEncoder\n",
        "labelencoder = LabelEncoder()\n",
        "data_disea= labelencoder.fit_transform(data_disease)\n",
        "Log = LogisticRegression()\n",
        "Log.fit(X_desc, data_disea)\n",
        "desc_disease_predict=Log.predict(X_desc)\n",
        "#print(classification_report(data_disease,desc_disease_predict))\n",
        "scores=Log.score(X_desc,data_disea)\n",
        "print(scores)\n",
        "#print(Log.predict_proba(X_desc)[5])"
      ]
    },
    {
      "cell_type": "code",
      "execution_count": null,
      "metadata": {
        "id": "D3bDtYrPdebB"
      },
      "outputs": [],
      "source": [
        "y_predxl=labelencoder.inverse_transform(Log.predict(x_ech))\n",
        "print(y_predxl)\n",
        "prob=Log.predict_proba(x_ech)\n",
        "print(prob[0])\n",
        "resumal= np.argpartition(-prob[0], range(5))[:5]\n",
        "print(resumal)\n",
        "Dis=labelencoder.inverse_transform(resumal)\n",
        "print(prob[0][resumal])\n",
        "print(Dis)\n",
        "for i,j in zip(Dis,resumal):\n",
        "  print(i,' : ', round(prob[0][j]*100, 2),'%')"
      ]
    },
    {
      "cell_type": "code",
      "execution_count": null,
      "metadata": {
        "id": "wuXuhXvfVYwB"
      },
      "outputs": [],
      "source": [
        "a=''\n",
        "for i in desc:\n",
        "  a=a + ' ' + i\n",
        "print(a)\n",
        "x_ech=vectorizer.transform([a])\n",
        "Log.predict(x_ech)"
      ]
    },
    {
      "cell_type": "code",
      "execution_count": null,
      "metadata": {
        "id": "RUx9Yiu7XCB8"
      },
      "outputs": [],
      "source": [
        "\n",
        "#feature_embeddings = model.encode(desc_clean, convert_to_tensor=True)\n",
        "#print(feature_embeddings)\n",
        "  # encode sentence to get sentence embeddings\n",
        "#description_embeddings= model.encode(a, convert_to_tensor=True) \n",
        "  # top_k results to return\n",
        "top_k=5\n",
        "  # compute similarity scores of the sentence with the corpus\n",
        "symptoms_extrait=[]\n",
        "symptoms_indice=[]\n",
        "X=np.zeros(len(symptoms))\n",
        "cos_scores = util.pytorch_cos_sim(description_embeddings,  feature_embeddings)\n",
        "\n",
        "for i,cos_score in enumerate(cos_scores):\n",
        "    # Sort the results in decreasing order and get the first top_k\n",
        "    top_results = np.argpartition(-cos_score, range(top_k))[0:top_k]\n",
        "    print(\"Top\", top_k, \"most similar sentences in corpus:\")\n",
        "    for idx in top_results[0:top_k]:\n",
        "        print(data_disease[idx], \"(Score: %.4f)\" % (cos_score[idx]))"
      ]
    },
    {
      "cell_type": "markdown",
      "metadata": {
        "id": "yaqyclmfmXhs"
      },
      "source": [
        "### Projet S2"
      ]
    },
    {
      "cell_type": "code",
      "execution_count": null,
      "metadata": {
        "id": "3QfKeFG53u9K"
      },
      "outputs": [],
      "source": [
        "import csv\n",
        "description_list = dict()\n",
        "def getDescription():\n",
        "    global description_list\n",
        "    with open(\"/content/sample_data/Disease_Description_ICD11.csv\",encoding = 'ISO-8859-1') as csv_file:\n",
        "        csv_reader = csv.reader(csv_file, delimiter=';')\n",
        "        line_count = 0\n",
        "        for row in csv_reader:\n",
        "            _description={row[0]:row[1]}\n",
        "            description_list.update(_description)\n",
        "\n",
        "getDescription()\n",
        "print(description_list)"
      ]
    },
    {
      "cell_type": "code",
      "execution_count": null,
      "metadata": {
        "id": "amR2ibDPOl_r"
      },
      "outputs": [],
      "source": [
        "! pip install gradio"
      ]
    },
    {
      "cell_type": "code",
      "execution_count": null,
      "metadata": {
        "id": "Vf5jgICWXjV8"
      },
      "outputs": [],
      "source": [
        "import gradio as gr\n",
        "import re\n",
        "\n",
        "with open(pkl_filename,'rb') as file:\n",
        "  Logit_model=pickle.load(file)\n",
        "\n",
        "def clean_text(text):\n",
        "  text = text.encode(\"ascii\", errors=\"ignore\").decode(\"ascii\")  # remove non-ascii, Chinese characters\n",
        "  text = text.lower()\n",
        "    # lower case\n",
        "  text = re.sub(r\"\\n\", \" \", text)\n",
        "  text = re.sub(r\"\\n\\n\", \" \", text)\n",
        "  text = re.sub(r\"\\t\", \" \", text)\n",
        "  text = re.sub(\"\\d+\", \"\", text) \n",
        "  \n",
        "  return text.split(\",\")\n",
        "\n",
        "def Disease_classifier(text):\n",
        "  \n",
        "  description=clean_text(text)\n",
        "\n",
        "  symptom, sympindice, x_to_pred =similarity_fun(description)\n",
        "\n",
        "  Symptoms=set(symptom)\n",
        "\n",
        "  Disease=labelencoder.inverse_transform(Logit_model.predict([x_to_pred]))\n",
        "\n",
        "  Desc=description_list[Disease[0]]\n",
        "\n",
        "  prob=Logit_model.predict_proba([x_to_pred])\n",
        "\n",
        "  resumal= np.argpartition(-prob[0], range(5))[:5]\n",
        "\n",
        "  Dis=labelencoder.inverse_transform(resumal)\n",
        "  \n",
        "  Prob=[]\n",
        "  for j in  resumal: \n",
        "    Prob.append(round(prob[0][j]*100, 2))\n",
        "  \n",
        "  Disease_alternatif=pd.DataFrame(zip(Dis,Prob), columns=[\"Disease\",\"Probability %\"])\n",
        "\n",
        "  return  Symptoms, Disease[0], Prob[0], Desc, Disease_alternatif\n",
        "\n",
        "\n"
      ]
    },
    {
      "cell_type": "markdown",
      "metadata": {
        "id": "rLb9zUN2Neig"
      },
      "source": [
        "### Gradio interface"
      ]
    },
    {
      "cell_type": "code",
      "execution_count": null,
      "metadata": {
        "id": "ksS5ny-ANdld"
      },
      "outputs": [],
      "source": [
        "gradio_ui = gr.Interface(\n",
        "    fn=Disease_classifier,\n",
        "    title=\"Prediction of Disease\",\n",
        "    description=\"Enter the symptoms or description of how you feel yourself  \",\n",
        "    inputs=gr.inputs.Textbox(lines=10, label=\"Paste some text here\"),\n",
        "    outputs=[\n",
        "        gr.outputs.Textbox(label=\"Symptom extracted\"),\n",
        "        gr.outputs.Textbox(label=\"Disease predicted\"),\n",
        "        gr.outputs.Textbox(label=\"Disease Score\"),\n",
        "        gr.outputs.Textbox(label=\"Disease description\"),\n",
        "        gr.outputs.Textbox(label=\"Alternative disease that it can be\")\n",
        "    ],\n",
        ")\n"
      ]
    },
    {
      "cell_type": "code",
      "execution_count": null,
      "metadata": {
        "id": "cmMHBKHZOeZP"
      },
      "outputs": [],
      "source": [
        "gradio_ui.launch()"
      ]
    }
  ],
  "metadata": {
    "colab": {
      "collapsed_sections": [],
      "name": "Projet_S2_Predict_Diseases_From_Smptoms.ipynb",
      "provenance": []
    },
    "kernelspec": {
      "display_name": "Python 3",
      "language": "python",
      "name": "python3"
    },
    "language_info": {
      "codemirror_mode": {
        "name": "ipython",
        "version": 3
      },
      "file_extension": ".py",
      "mimetype": "text/x-python",
      "name": "python",
      "nbconvert_exporter": "python",
      "pygments_lexer": "ipython3",
      "version": "3.8.3"
    }
  },
  "nbformat": 4,
  "nbformat_minor": 0
}